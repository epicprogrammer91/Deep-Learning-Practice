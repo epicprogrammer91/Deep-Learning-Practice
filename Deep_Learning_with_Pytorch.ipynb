{
  "nbformat": 4,
  "nbformat_minor": 0,
  "metadata": {
    "colab": {
      "provenance": [],
      "authorship_tag": "ABX9TyMr2Rqb6dIt/fCMLAsXQGX4",
      "include_colab_link": true
    },
    "kernelspec": {
      "name": "python3",
      "display_name": "Python 3"
    },
    "language_info": {
      "name": "python"
    }
  },
  "cells": [
    {
      "cell_type": "markdown",
      "metadata": {
        "id": "view-in-github",
        "colab_type": "text"
      },
      "source": [
        "<a href=\"https://colab.research.google.com/github/epicprogrammer91/Deep-Learning-Practice/blob/main/Deep_Learning_with_Pytorch.ipynb\" target=\"_parent\"><img src=\"https://colab.research.google.com/assets/colab-badge.svg\" alt=\"Open In Colab\"/></a>"
      ]
    },
    {
      "cell_type": "markdown",
      "source": [
        "#Deep Learning with Pytorch\n",
        "## Stevens, Antiga, Viehmann"
      ],
      "metadata": {
        "id": "O65Kf3exwuHi"
      }
    },
    {
      "cell_type": "code",
      "source": [],
      "metadata": {
        "id": "4z_H9yM3wtSj"
      },
      "execution_count": null,
      "outputs": []
    }
  ]
}